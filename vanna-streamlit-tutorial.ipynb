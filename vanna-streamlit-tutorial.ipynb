{
 "cells": [
  {
   "cell_type": "markdown",
   "metadata": {},
   "source": [
    "# SQL Assistant: Text-to-SQL Application in Streamlit 🤖\n",
    "\n",
    "# ✨ What is Generative AI?\n",
    "**`Generative AI`**  refers to a category of artificial intelligence systems that have the capability to generate new and original content, such as images, text, or other forms of data.\n",
    "\n",
    "\n",
    "# 🧪 What is LLMs Models?\n",
    "**Large Language Models (LLMs)** are a complex deep learning models trained on extensive datasets to comprehend and generate natural language text. These models utilize a transformer architecture, incorporating an encoder to extract nuanced meanings from input text sequences and a decoder to understand intricate relationships between words and phrases. The training process involves millions of data inputs, foundational for creating millions of hyperparameters that fine-tune the model's behavior. The significant computational demands during training are efficiently handled by Graphics Processing Units (GPUs), enabling accelerated processing and enhancing the model's proficiency in generating contextually rich and meaningful text.\n",
    "\n",
    "<br>\n",
    "<br>\n",
    "\n",
    "# 🤖 Text-to-SQL & Vanna.ai\n",
    "\n",
    "**`Text-to-SQL`** is a tool that utilizes models to translate natural language queries into SQL queries, aiming to make it easy for users to generate SQL queries and interact with databases seamlessly. \n",
    "\n",
    "The implementation of **`Text-to-SQL`** can be achieved through the use of [Vanna.AI](https://vanna.ai/), an open-source Python library that allows the training of an RAG model with queries, DDL, and documentation from a database. \n",
    "\n",
    "<br>\n",
    "\n",
    "<img src=\"https://raw.githubusercontent.com/r0mymendez/text-to-sql/main/img/Text-to-SQL.png\">\n",
    "\n",
    "\n",
    "---\n",
    "\n",
    "<br>\n",
    "<br>\n",
    "\n",
    "## Vanna.AI: Output Possibilities\n",
    "\n",
    "The following are the possible outputs that can be generated with Vanna methods, facilitating diverse ways of interacting with the database using natural language.\n",
    "\n",
    "| Output | Description |\n",
    "|---------|-------------|\n",
    "|**📄 SQL** | Vanna.AI can generate SQL queries from natural language questions. These SQL queries can be used to interact with a database.|\n",
    "|**📁 DataFrame** | After generating an SQL query, Vanna.AI can execute it in the database and return the results as a pandas DataFrame.|\n",
    "|**📊 Charts**| Vanna.AI can generate plots using Plotly from the results of the SQL query.|\n",
    "|**❓ Follow-up questions**| Vanna.AI can generate follow-up questions based on the generated SQL query. These follow-up questions can help users refine their queries or explore the data in more detail.|\n",
    "|**🔍 Explanations queries**| Vanna.AI can provide explanations for the generated SQL queries. These explanations can help users understand how their natural language question is interpreted into an SQL query.|\n",
    "\n",
    "---\n",
    "\n",
    "<br>\n",
    "<br>\n",
    "\n",
    "## Vanna.AI: Features\n",
    "The following table contains the key features available with Vanna.AI, enriching data interaction capabilities:\n",
    "\n",
    "| Feature | Description |\n",
    "|---------|-------------|\n",
    "| **🚀 Model Training** | Train the RAG model on data sources, including Data Definition Language (DDL) statements, documentation, and SQL queries during the training process. |\n",
    "| **🤖 User Query Handling** | Users can pose questions in natural language, and Vanna.AI responds by generating SQL queries. |\n",
    "| **📚 Documentation** | Extensive documentation, a dedicated website, and a support community on Discord are available to offer comprehensive assistance. | \n",
    "| **🔌 Database Connections** | Vanna allows connecting to multiple databases, enabling users not only to retrieve SQL queries but also to execute them by establishing connections to their respective databases. |\n",
    "| **🤔 AI-Generated Recommendation Questions** | This framework includes a feature of generating AI-driven questions, offering suggestions for additional queries that the user could explore. |\n",
    "\n"
   ]
  },
  {
   "cell_type": "markdown",
   "metadata": {},
   "source": [
    "# 🛠️ Simple Implementation\n",
    "\n",
    "For this implementation, we will use an example from the Chinook database. This database contains tables and data related to a music store, including information about artists, albums, tracks, customers, orders, and other aspects of managing an online music store.\n",
    "\n",
    "![](/Users/rominamendez/Desktop/romi/Personal/blog/github/publications/ai_postgres/img/chinook.png)\n",
    "\n",
    "---\n",
    "\n",
    "## Install vanna-ai\n",
    "\n",
    "`!pip install vanna`\n",
    "\n",
    "---\n",
    "\n",
    "## Implementation Steps\n",
    "Follow these steps to implement a straightforward example of text-to-SQL:\n",
    "\n",
    "1. **API Key Retrieval:** To initiate this example, acquire an API key by registering at https://vanna.ai/. Utilize your registered email to obtain the key.\n",
    "   \n",
    "2. **Setting API Key and Model:** Configure the API key obtained and specify the model to be used, in this instance, the pre-existing \"chinook\" model\n",
    "\n",
    "\n",
    "3. **Connecting to the Database:** Establish a connection with the database, utilizing an SQLite file available at https://vanna.ai/Chinook.sqlite.\n",
    "\n",
    "\n",
    "4. **Asking a Question:** Finally, pose a natural language question to extract specific information from the database.  In this step, the result includes the SQL query, the DataFrame from the query execution, and a representative chart. The system also generates follow-up questions based on the dataset.\n"
   ]
  },
  {
   "cell_type": "code",
   "execution_count": 182,
   "metadata": {},
   "outputs": [
    {
     "name": "stdout",
     "output_type": "stream",
     "text": [
      "SELECT a.name,\n",
      "       sum(il.quantity) as totalsales\n",
      "FROM   artist a\n",
      "    INNER JOIN album al\n",
      "        ON a.artistid = al.artistid\n",
      "    INNER JOIN track t\n",
      "        ON al.albumid = t.albumid\n",
      "    INNER JOIN invoiceline il\n",
      "        ON t.trackid = il.trackid\n",
      "GROUP BY a.name\n",
      "ORDER BY totalsales desc limit 10;\n"
     ]
    },
    {
     "data": {
      "text/html": [
       "<div>\n",
       "<style scoped>\n",
       "    .dataframe tbody tr th:only-of-type {\n",
       "        vertical-align: middle;\n",
       "    }\n",
       "\n",
       "    .dataframe tbody tr th {\n",
       "        vertical-align: top;\n",
       "    }\n",
       "\n",
       "    .dataframe thead th {\n",
       "        text-align: right;\n",
       "    }\n",
       "</style>\n",
       "<table border=\"1\" class=\"dataframe\">\n",
       "  <thead>\n",
       "    <tr style=\"text-align: right;\">\n",
       "      <th></th>\n",
       "      <th>Name</th>\n",
       "      <th>totalsales</th>\n",
       "    </tr>\n",
       "  </thead>\n",
       "  <tbody>\n",
       "    <tr>\n",
       "      <th>0</th>\n",
       "      <td>Iron Maiden</td>\n",
       "      <td>140</td>\n",
       "    </tr>\n",
       "    <tr>\n",
       "      <th>1</th>\n",
       "      <td>U2</td>\n",
       "      <td>107</td>\n",
       "    </tr>\n",
       "    <tr>\n",
       "      <th>2</th>\n",
       "      <td>Metallica</td>\n",
       "      <td>91</td>\n",
       "    </tr>\n",
       "    <tr>\n",
       "      <th>3</th>\n",
       "      <td>Led Zeppelin</td>\n",
       "      <td>87</td>\n",
       "    </tr>\n",
       "    <tr>\n",
       "      <th>4</th>\n",
       "      <td>Os Paralamas Do Sucesso</td>\n",
       "      <td>45</td>\n",
       "    </tr>\n",
       "    <tr>\n",
       "      <th>5</th>\n",
       "      <td>Deep Purple</td>\n",
       "      <td>44</td>\n",
       "    </tr>\n",
       "    <tr>\n",
       "      <th>6</th>\n",
       "      <td>Faith No More</td>\n",
       "      <td>42</td>\n",
       "    </tr>\n",
       "    <tr>\n",
       "      <th>7</th>\n",
       "      <td>Lost</td>\n",
       "      <td>41</td>\n",
       "    </tr>\n",
       "    <tr>\n",
       "      <th>8</th>\n",
       "      <td>Eric Clapton</td>\n",
       "      <td>40</td>\n",
       "    </tr>\n",
       "    <tr>\n",
       "      <th>9</th>\n",
       "      <td>R.E.M.</td>\n",
       "      <td>39</td>\n",
       "    </tr>\n",
       "  </tbody>\n",
       "</table>\n",
       "</div>"
      ],
      "text/plain": [
       "                      Name  totalsales\n",
       "0              Iron Maiden         140\n",
       "1                       U2         107\n",
       "2                Metallica          91\n",
       "3             Led Zeppelin          87\n",
       "4  Os Paralamas Do Sucesso          45\n",
       "5              Deep Purple          44\n",
       "6            Faith No More          42\n",
       "7                     Lost          41\n",
       "8             Eric Clapton          40\n",
       "9                   R.E.M.          39"
      ]
     },
     "metadata": {},
     "output_type": "display_data"
    },
    {
     "data": {
      "application/vnd.plotly.v1+json": {
       "config": {
        "plotlyServerURL": "https://plot.ly"
       },
       "data": [
        {
         "orientation": "h",
         "type": "bar",
         "x": [
          140,
          107,
          91,
          87,
          45,
          44,
          42,
          41,
          40,
          39
         ],
         "y": [
          "Iron Maiden",
          "U2",
          "Metallica",
          "Led Zeppelin",
          "Os Paralamas Do Sucesso",
          "Deep Purple",
          "Faith No More",
          "Lost",
          "Eric Clapton",
          "R.E.M."
         ]
        }
       ],
       "layout": {
        "template": {
         "data": {
          "bar": [
           {
            "error_x": {
             "color": "#2a3f5f"
            },
            "error_y": {
             "color": "#2a3f5f"
            },
            "marker": {
             "line": {
              "color": "#E5ECF6",
              "width": 0.5
             },
             "pattern": {
              "fillmode": "overlay",
              "size": 10,
              "solidity": 0.2
             }
            },
            "type": "bar"
           }
          ],
          "barpolar": [
           {
            "marker": {
             "line": {
              "color": "#E5ECF6",
              "width": 0.5
             },
             "pattern": {
              "fillmode": "overlay",
              "size": 10,
              "solidity": 0.2
             }
            },
            "type": "barpolar"
           }
          ],
          "carpet": [
           {
            "aaxis": {
             "endlinecolor": "#2a3f5f",
             "gridcolor": "white",
             "linecolor": "white",
             "minorgridcolor": "white",
             "startlinecolor": "#2a3f5f"
            },
            "baxis": {
             "endlinecolor": "#2a3f5f",
             "gridcolor": "white",
             "linecolor": "white",
             "minorgridcolor": "white",
             "startlinecolor": "#2a3f5f"
            },
            "type": "carpet"
           }
          ],
          "choropleth": [
           {
            "colorbar": {
             "outlinewidth": 0,
             "ticks": ""
            },
            "type": "choropleth"
           }
          ],
          "contour": [
           {
            "colorbar": {
             "outlinewidth": 0,
             "ticks": ""
            },
            "colorscale": [
             [
              0,
              "#0d0887"
             ],
             [
              0.1111111111111111,
              "#46039f"
             ],
             [
              0.2222222222222222,
              "#7201a8"
             ],
             [
              0.3333333333333333,
              "#9c179e"
             ],
             [
              0.4444444444444444,
              "#bd3786"
             ],
             [
              0.5555555555555556,
              "#d8576b"
             ],
             [
              0.6666666666666666,
              "#ed7953"
             ],
             [
              0.7777777777777778,
              "#fb9f3a"
             ],
             [
              0.8888888888888888,
              "#fdca26"
             ],
             [
              1,
              "#f0f921"
             ]
            ],
            "type": "contour"
           }
          ],
          "contourcarpet": [
           {
            "colorbar": {
             "outlinewidth": 0,
             "ticks": ""
            },
            "type": "contourcarpet"
           }
          ],
          "heatmap": [
           {
            "colorbar": {
             "outlinewidth": 0,
             "ticks": ""
            },
            "colorscale": [
             [
              0,
              "#0d0887"
             ],
             [
              0.1111111111111111,
              "#46039f"
             ],
             [
              0.2222222222222222,
              "#7201a8"
             ],
             [
              0.3333333333333333,
              "#9c179e"
             ],
             [
              0.4444444444444444,
              "#bd3786"
             ],
             [
              0.5555555555555556,
              "#d8576b"
             ],
             [
              0.6666666666666666,
              "#ed7953"
             ],
             [
              0.7777777777777778,
              "#fb9f3a"
             ],
             [
              0.8888888888888888,
              "#fdca26"
             ],
             [
              1,
              "#f0f921"
             ]
            ],
            "type": "heatmap"
           }
          ],
          "heatmapgl": [
           {
            "colorbar": {
             "outlinewidth": 0,
             "ticks": ""
            },
            "colorscale": [
             [
              0,
              "#0d0887"
             ],
             [
              0.1111111111111111,
              "#46039f"
             ],
             [
              0.2222222222222222,
              "#7201a8"
             ],
             [
              0.3333333333333333,
              "#9c179e"
             ],
             [
              0.4444444444444444,
              "#bd3786"
             ],
             [
              0.5555555555555556,
              "#d8576b"
             ],
             [
              0.6666666666666666,
              "#ed7953"
             ],
             [
              0.7777777777777778,
              "#fb9f3a"
             ],
             [
              0.8888888888888888,
              "#fdca26"
             ],
             [
              1,
              "#f0f921"
             ]
            ],
            "type": "heatmapgl"
           }
          ],
          "histogram": [
           {
            "marker": {
             "pattern": {
              "fillmode": "overlay",
              "size": 10,
              "solidity": 0.2
             }
            },
            "type": "histogram"
           }
          ],
          "histogram2d": [
           {
            "colorbar": {
             "outlinewidth": 0,
             "ticks": ""
            },
            "colorscale": [
             [
              0,
              "#0d0887"
             ],
             [
              0.1111111111111111,
              "#46039f"
             ],
             [
              0.2222222222222222,
              "#7201a8"
             ],
             [
              0.3333333333333333,
              "#9c179e"
             ],
             [
              0.4444444444444444,
              "#bd3786"
             ],
             [
              0.5555555555555556,
              "#d8576b"
             ],
             [
              0.6666666666666666,
              "#ed7953"
             ],
             [
              0.7777777777777778,
              "#fb9f3a"
             ],
             [
              0.8888888888888888,
              "#fdca26"
             ],
             [
              1,
              "#f0f921"
             ]
            ],
            "type": "histogram2d"
           }
          ],
          "histogram2dcontour": [
           {
            "colorbar": {
             "outlinewidth": 0,
             "ticks": ""
            },
            "colorscale": [
             [
              0,
              "#0d0887"
             ],
             [
              0.1111111111111111,
              "#46039f"
             ],
             [
              0.2222222222222222,
              "#7201a8"
             ],
             [
              0.3333333333333333,
              "#9c179e"
             ],
             [
              0.4444444444444444,
              "#bd3786"
             ],
             [
              0.5555555555555556,
              "#d8576b"
             ],
             [
              0.6666666666666666,
              "#ed7953"
             ],
             [
              0.7777777777777778,
              "#fb9f3a"
             ],
             [
              0.8888888888888888,
              "#fdca26"
             ],
             [
              1,
              "#f0f921"
             ]
            ],
            "type": "histogram2dcontour"
           }
          ],
          "mesh3d": [
           {
            "colorbar": {
             "outlinewidth": 0,
             "ticks": ""
            },
            "type": "mesh3d"
           }
          ],
          "parcoords": [
           {
            "line": {
             "colorbar": {
              "outlinewidth": 0,
              "ticks": ""
             }
            },
            "type": "parcoords"
           }
          ],
          "pie": [
           {
            "automargin": true,
            "type": "pie"
           }
          ],
          "scatter": [
           {
            "fillpattern": {
             "fillmode": "overlay",
             "size": 10,
             "solidity": 0.2
            },
            "type": "scatter"
           }
          ],
          "scatter3d": [
           {
            "line": {
             "colorbar": {
              "outlinewidth": 0,
              "ticks": ""
             }
            },
            "marker": {
             "colorbar": {
              "outlinewidth": 0,
              "ticks": ""
             }
            },
            "type": "scatter3d"
           }
          ],
          "scattercarpet": [
           {
            "marker": {
             "colorbar": {
              "outlinewidth": 0,
              "ticks": ""
             }
            },
            "type": "scattercarpet"
           }
          ],
          "scattergeo": [
           {
            "marker": {
             "colorbar": {
              "outlinewidth": 0,
              "ticks": ""
             }
            },
            "type": "scattergeo"
           }
          ],
          "scattergl": [
           {
            "marker": {
             "colorbar": {
              "outlinewidth": 0,
              "ticks": ""
             }
            },
            "type": "scattergl"
           }
          ],
          "scattermapbox": [
           {
            "marker": {
             "colorbar": {
              "outlinewidth": 0,
              "ticks": ""
             }
            },
            "type": "scattermapbox"
           }
          ],
          "scatterpolar": [
           {
            "marker": {
             "colorbar": {
              "outlinewidth": 0,
              "ticks": ""
             }
            },
            "type": "scatterpolar"
           }
          ],
          "scatterpolargl": [
           {
            "marker": {
             "colorbar": {
              "outlinewidth": 0,
              "ticks": ""
             }
            },
            "type": "scatterpolargl"
           }
          ],
          "scatterternary": [
           {
            "marker": {
             "colorbar": {
              "outlinewidth": 0,
              "ticks": ""
             }
            },
            "type": "scatterternary"
           }
          ],
          "surface": [
           {
            "colorbar": {
             "outlinewidth": 0,
             "ticks": ""
            },
            "colorscale": [
             [
              0,
              "#0d0887"
             ],
             [
              0.1111111111111111,
              "#46039f"
             ],
             [
              0.2222222222222222,
              "#7201a8"
             ],
             [
              0.3333333333333333,
              "#9c179e"
             ],
             [
              0.4444444444444444,
              "#bd3786"
             ],
             [
              0.5555555555555556,
              "#d8576b"
             ],
             [
              0.6666666666666666,
              "#ed7953"
             ],
             [
              0.7777777777777778,
              "#fb9f3a"
             ],
             [
              0.8888888888888888,
              "#fdca26"
             ],
             [
              1,
              "#f0f921"
             ]
            ],
            "type": "surface"
           }
          ],
          "table": [
           {
            "cells": {
             "fill": {
              "color": "#EBF0F8"
             },
             "line": {
              "color": "white"
             }
            },
            "header": {
             "fill": {
              "color": "#C8D4E3"
             },
             "line": {
              "color": "white"
             }
            },
            "type": "table"
           }
          ]
         },
         "layout": {
          "annotationdefaults": {
           "arrowcolor": "#2a3f5f",
           "arrowhead": 0,
           "arrowwidth": 1
          },
          "autotypenumbers": "strict",
          "coloraxis": {
           "colorbar": {
            "outlinewidth": 0,
            "ticks": ""
           }
          },
          "colorscale": {
           "diverging": [
            [
             0,
             "#8e0152"
            ],
            [
             0.1,
             "#c51b7d"
            ],
            [
             0.2,
             "#de77ae"
            ],
            [
             0.3,
             "#f1b6da"
            ],
            [
             0.4,
             "#fde0ef"
            ],
            [
             0.5,
             "#f7f7f7"
            ],
            [
             0.6,
             "#e6f5d0"
            ],
            [
             0.7,
             "#b8e186"
            ],
            [
             0.8,
             "#7fbc41"
            ],
            [
             0.9,
             "#4d9221"
            ],
            [
             1,
             "#276419"
            ]
           ],
           "sequential": [
            [
             0,
             "#0d0887"
            ],
            [
             0.1111111111111111,
             "#46039f"
            ],
            [
             0.2222222222222222,
             "#7201a8"
            ],
            [
             0.3333333333333333,
             "#9c179e"
            ],
            [
             0.4444444444444444,
             "#bd3786"
            ],
            [
             0.5555555555555556,
             "#d8576b"
            ],
            [
             0.6666666666666666,
             "#ed7953"
            ],
            [
             0.7777777777777778,
             "#fb9f3a"
            ],
            [
             0.8888888888888888,
             "#fdca26"
            ],
            [
             1,
             "#f0f921"
            ]
           ],
           "sequentialminus": [
            [
             0,
             "#0d0887"
            ],
            [
             0.1111111111111111,
             "#46039f"
            ],
            [
             0.2222222222222222,
             "#7201a8"
            ],
            [
             0.3333333333333333,
             "#9c179e"
            ],
            [
             0.4444444444444444,
             "#bd3786"
            ],
            [
             0.5555555555555556,
             "#d8576b"
            ],
            [
             0.6666666666666666,
             "#ed7953"
            ],
            [
             0.7777777777777778,
             "#fb9f3a"
            ],
            [
             0.8888888888888888,
             "#fdca26"
            ],
            [
             1,
             "#f0f921"
            ]
           ]
          },
          "colorway": [
           "#636efa",
           "#EF553B",
           "#00cc96",
           "#ab63fa",
           "#FFA15A",
           "#19d3f3",
           "#FF6692",
           "#B6E880",
           "#FF97FF",
           "#FECB52"
          ],
          "font": {
           "color": "#2a3f5f"
          },
          "geo": {
           "bgcolor": "white",
           "lakecolor": "white",
           "landcolor": "#E5ECF6",
           "showlakes": true,
           "showland": true,
           "subunitcolor": "white"
          },
          "hoverlabel": {
           "align": "left"
          },
          "hovermode": "closest",
          "mapbox": {
           "style": "light"
          },
          "paper_bgcolor": "white",
          "plot_bgcolor": "#E5ECF6",
          "polar": {
           "angularaxis": {
            "gridcolor": "white",
            "linecolor": "white",
            "ticks": ""
           },
           "bgcolor": "#E5ECF6",
           "radialaxis": {
            "gridcolor": "white",
            "linecolor": "white",
            "ticks": ""
           }
          },
          "scene": {
           "xaxis": {
            "backgroundcolor": "#E5ECF6",
            "gridcolor": "white",
            "gridwidth": 2,
            "linecolor": "white",
            "showbackground": true,
            "ticks": "",
            "zerolinecolor": "white"
           },
           "yaxis": {
            "backgroundcolor": "#E5ECF6",
            "gridcolor": "white",
            "gridwidth": 2,
            "linecolor": "white",
            "showbackground": true,
            "ticks": "",
            "zerolinecolor": "white"
           },
           "zaxis": {
            "backgroundcolor": "#E5ECF6",
            "gridcolor": "white",
            "gridwidth": 2,
            "linecolor": "white",
            "showbackground": true,
            "ticks": "",
            "zerolinecolor": "white"
           }
          },
          "shapedefaults": {
           "line": {
            "color": "#2a3f5f"
           }
          },
          "ternary": {
           "aaxis": {
            "gridcolor": "white",
            "linecolor": "white",
            "ticks": ""
           },
           "baxis": {
            "gridcolor": "white",
            "linecolor": "white",
            "ticks": ""
           },
           "bgcolor": "#E5ECF6",
           "caxis": {
            "gridcolor": "white",
            "linecolor": "white",
            "ticks": ""
           }
          },
          "title": {
           "x": 0.05
          },
          "xaxis": {
           "automargin": true,
           "gridcolor": "white",
           "linecolor": "white",
           "ticks": "",
           "title": {
            "standoff": 15
           },
           "zerolinecolor": "white",
           "zerolinewidth": 2
          },
          "yaxis": {
           "automargin": true,
           "gridcolor": "white",
           "linecolor": "white",
           "ticks": "",
           "title": {
            "standoff": 15
           },
           "zerolinecolor": "white",
           "zerolinewidth": 2
          }
         }
        },
        "title": {
         "text": "Top 10 Artists by Sales"
        },
        "xaxis": {
         "title": {
          "text": "Total Sales"
         }
        },
        "yaxis": {
         "title": {
          "text": "Artist"
         }
        }
       }
      }
     },
     "metadata": {},
     "output_type": "display_data"
    },
    {
     "data": {
      "text/markdown": [
       "AI-generated follow-up questions:\n",
       "\n",
       "* Who is the artist with the highest sales?\n",
       "* What are the total sales for each artist?\n",
       "* Which genre has the highest sales?\n",
       "* Can you provide a breakdown of sales by album?\n",
       "* Which artist has the lowest sales?\n",
       "* What is the average sales per artist?\n",
       "* Can you provide a list of the top-selling albums?\n",
       "* Which genre has the least sales?\n",
       "* Can you provide a breakdown of sales by country?\n",
       "* What is the total sales for each genre?\n"
      ],
      "text/plain": [
       "<IPython.core.display.Markdown object>"
      ]
     },
     "metadata": {},
     "output_type": "display_data"
    }
   ],
   "source": [
    "import vanna as vn\n",
    "\n",
    "# STEP 01: This is a simple example of how to use the Vanna API\n",
    "api_key = vn.get_api_key('your_email')\n",
    "\n",
    "# Set the API key and the model\n",
    "vn.set_api_key(api_key)\n",
    "\n",
    "# STEP 02:  Set the model\n",
    "vn.set_model('chinook')\n",
    "\n",
    "# STEP 03:  Connect with the database\n",
    "vn.connect_to_sqlite('https://vanna.ai/Chinook.sqlite')\n",
    "\n",
    "# STEP 04:  Ask a question\n",
    "vn.ask('What are the top 10 artists by sales?')\n"
   ]
  },
  {
   "cell_type": "markdown",
   "metadata": {},
   "source": [
    "# 🧪 Train the model \n",
    "To train your own model follow the following steps:\n",
    "1. Log in to your account https://vanna.ai/ and create a new model.\n",
    "2. Next we will define how to train the model. In our next example we will use ddl (data definition language), documentation and queries.\n",
    "3. Ask a question.\n",
    "\n",
    "![](https://raw.githubusercontent.com/r0mymendez/text-to-sql/main/img/ecommerce_database.png)"
   ]
  },
  {
   "cell_type": "code",
   "execution_count": 184,
   "metadata": {},
   "outputs": [
    {
     "data": {
      "text/plain": [
       "['ecommerce-test', 'demo-tpc-h', 'tpc', 'chinook', 'thelook']"
      ]
     },
     "execution_count": 184,
     "metadata": {},
     "output_type": "execute_result"
    }
   ],
   "source": [
    "# Check the models available in the account\n",
    "vn.get_models()"
   ]
  },
  {
   "cell_type": "code",
   "execution_count": 183,
   "metadata": {},
   "outputs": [],
   "source": [
    "# Set the model\n",
    "vn.set_model(\"ecommerce-test\")"
   ]
  },
  {
   "cell_type": "code",
   "execution_count": 185,
   "metadata": {},
   "outputs": [
    {
     "name": "stdout",
     "output_type": "stream",
     "text": [
      "Adding documentation....\n"
     ]
    },
    {
     "data": {
      "text/plain": [
       "True"
      ]
     },
     "execution_count": 185,
     "metadata": {},
     "output_type": "execute_result"
    }
   ],
   "source": [
    "# Get the ddl, documentation and queries for training the model\n",
    "import os \n",
    "\n",
    "# Get the ddl files\n",
    "ddl_files = os.listdir('src/db/ddl')\n",
    "ddl=''\n",
    "for ddl_file in ddl_files:\n",
    "    with open(f'src/db/ddl/{ddl_file}', 'r') as f:\n",
    "        content = f.read()\n",
    "    ddl += content\n",
    "\n",
    "# Get the documentation files\n",
    "with open(f'src/db/documentation.md', 'r') as f:\n",
    "    doc = f.read()\n",
    "\n",
    "# Get the query files\n",
    "queries=''\n",
    "query_files=os.listdir('src/db/queries')\n",
    "for query_file in query_files:\n",
    "    with open(f'src/db/queries/{query_file}', 'r') as f:\n",
    "        content = f.read()\n",
    "    queries += content\n",
    "\n",
    "# Train the model with the ddl\n",
    "vn.train(ddl=ddl, documentation=doc, sql=queries)"
   ]
  },
  {
   "cell_type": "code",
   "execution_count": 187,
   "metadata": {},
   "outputs": [
    {
     "name": "stdout",
     "output_type": "stream",
     "text": [
      "SELECT COUNT(*) AS total_count,\n",
      "       c.email_address,\n",
      "       COUNT(o.order_id) AS num_purchases,\n",
      "       MAX(o.order_date) AS most_recent_purchase_date\n",
      "FROM Customers c\n",
      "JOIN Orders o ON c.customer_id = o.customer_id\n",
      "WHERE c.registration_date >= '2020-10-01' AND c.registration_date <= '2022-01-01'\n",
      "  AND o.order_value > 20\n",
      "GROUP BY c.email_address\n",
      "HAVING COUNT(o.order_id) > 10;\n"
     ]
    }
   ],
   "source": [
    "# Ask a question for generating the SQL\n",
    "\n",
    "question  =  \"\"\"What is the total count of new clients who registered between October 1, 2020, and \n",
    "January 1, 2022, and have made more than 10 purchases, each exceeding $20? Additionally,\n",
    " could you provide their email addresses, the number of purchases made, and the date of their\n",
    "  most recent purchase?\"\"\"\n",
    "\n",
    "print(vn.generate_sql(question=question))"
   ]
  },
  {
   "cell_type": "code",
   "execution_count": 188,
   "metadata": {},
   "outputs": [
    {
     "name": "stdout",
     "output_type": "stream",
     "text": [
      "This SQL statement retrieves information from two tables, \"customers\" and \"orders\", and applies several conditions to filter the data. Let's break down the statement step by step:\n",
      "\n",
      "1. SELECT COUNT(*) AS total_count, customers.email_address, COUNT(orders.order_id) AS num_purchases, MAX(orders.submitted_date) AS most_recent_purchase_date:\n",
      "   - This line specifies the columns to be included in the result set.\n",
      "   - \"COUNT(*)\" calculates the total number of rows in the result set.\n",
      "   - \"customers.email_address\" retrieves the email address from the \"customers\" table.\n",
      "   - \"COUNT(orders.order_id)\" calculates the number of purchases made by each customer.\n",
      "   - \"MAX(orders.submitted_date)\" retrieves the most recent purchase date.\n",
      "\n",
      "2. FROM stage.customers\n",
      "   - This line specifies the table from which to retrieve data (\"customers\").\n",
      "   - \"stage.customers\" indicates that the \"customers\" table is located in the \"stage\" schema.\n",
      "\n",
      "3. JOIN stage.orders ON customers.customer_id = orders.customer_id\n",
      "   - This line joins the \"customers\" and \"orders\" tables based on the \"customer_id\" column.\n",
      "   - The \"ON\" keyword specifies the condition for the join.\n",
      "\n",
      "4. WHERE customers.date_created >= '2020-10-01' AND customers.date_created <= '2022-01-01'\n",
      "   - This line applies a filter to the \"customers\" table.\n",
      "   - It selects only the rows where the \"date_created\" is between October 1, 2020, and January 1, 2022.\n",
      "\n",
      "5. AND orders.total > 10 AND orders.total_shipping > 20\n",
      "   - This line applies additional filters to the \"orders\" table.\n",
      "   - It selects only the rows where the \"total\" is greater than 10 and the \"total_shipping\" is greater than 20.\n",
      "\n",
      "6. GROUP BY customers.email_address\n",
      "   - This line groups the result set by the \"email_address\" column.\n",
      "   - It combines rows with the same email address into a single group.\n",
      "\n",
      "7. HAVING COUNT(orders.order_id) > 10\n",
      "   - This line applies a filter to the grouped result set.\n",
      "   - It selects only the groups where the count of \"order_id\" is greater than 10.\n",
      "\n",
      "In summary, this SQL statement retrieves information about customers and their purchases. It calculates the total count of customers, their email addresses,\n"
     ]
    }
   ],
   "source": [
    "# Generate the explanation for the SQL\n",
    "print(vn.generate_explanation(sql=sql))"
   ]
  },
  {
   "cell_type": "markdown",
   "metadata": {},
   "source": [
    "# 💬 Streamlit Chatbot\n",
    "\n",
    "In the `src\\` folder 📁, you'll find an application crafted with Vanna.AI and Streamlit, utilizing the implementation of chat elements. Within this application, we've designed a chatbot where you input your username, select your avatar, and then initiate the chat.\n",
    "\n",
    "![](https://raw.githubusercontent.com/r0mymendez/text-to-sql/main/img/streamlit-vanna-ai.png)\n",
    "\n",
    "In this chatbot application, you can pose questions related to the e-commerce database. The assistant will respond with the corresponding SQL query and provide a button that allows you to generate a detailed explanation of this query using the \"generate_explanation\" method.\n",
    "\n",
    "---\n",
    "\n",
    "## 💬 Streamlit Application Launch\n",
    "\n",
    "### 1️⃣. Secrets File Setup \n",
    "Create a file named secrets.toml in the .streamlit folder with the following content. Replace the values for key with your registered email and model_name with the name of your model created on https://vanna.ai/.\n",
    "\n",
    "`📄 scr\\.streamlit\\secrets.toml`\n",
    "```toml\n",
    "[vanna]\n",
    "key = \"your_email@mail.com\"\n",
    "model_name = \"ecommerce-test\"\n",
    "```\n",
    "\n",
    "### 2️⃣. Application Launch\n",
    "To initiate the application, follow these steps:\n",
    "```bash \n",
    "cd src\n",
    "streamlit run main.py\n",
    "```\n",
    "\n",
    "### 3️⃣. Email Verification\n",
    "Upon execution, the following message will appear in the terminal. It's necessary to enter the code received in the registered email.\n",
    "\n",
    "```bash\n",
    "  You can now view your Streamlit app in your browser.\n",
    "\n",
    "  Local URL: http://localhost:8503\n",
    "  Network URL: http://192.168.0.20:8503\n",
    "  Check your email for the code and enter it here: \n",
    "```\n",
    "\n",
    "Email example\n",
    "\n",
    "![](https://raw.githubusercontent.com/r0mymendez/text-to-sql/main/img/vanna-email.png)"
   ]
  },
  {
   "cell_type": "markdown",
   "metadata": {},
   "source": [
    "# 🤖 Streamlit ChatBOT\n",
    "\n",
    "<img src=\"https://raw.githubusercontent.com/r0mymendez/text-to-sql/main/img/chatbot-1.png\" width=\"800\" />\n",
    "<img src=\"https://raw.githubusercontent.com/r0mymendez/text-to-sql/main/img/chatbot-2.png\" width=\"800\" />\n",
    "<img src=\"https://raw.githubusercontent.com/r0mymendez/text-to-sql/main/img/chatbot-3.png\" width=\"800\" />"
   ]
  }
 ],
 "metadata": {
  "kernelspec": {
   "display_name": "Python 3",
   "language": "python",
   "name": "python3"
  },
  "language_info": {
   "codemirror_mode": {
    "name": "ipython",
    "version": 3
   },
   "file_extension": ".py",
   "mimetype": "text/x-python",
   "name": "python",
   "nbconvert_exporter": "python",
   "pygments_lexer": "ipython3",
   "version": "3.11.6"
  }
 },
 "nbformat": 4,
 "nbformat_minor": 2
}
